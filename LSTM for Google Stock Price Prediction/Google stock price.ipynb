{
 "cells": [
  {
   "cell_type": "markdown",
   "id": "9e30b997",
   "metadata": {},
   "source": [
    "# 1. Import the required libraries"
   ]
  },
  {
   "cell_type": "code",
   "execution_count": 5,
   "id": "b9127b16",
   "metadata": {},
   "outputs": [],
   "source": [
    "import numpy as np\n",
    "import pandas as pd\n",
    "import matplotlib.pyplot as plt"
   ]
  },
  {
   "cell_type": "markdown",
   "id": "3da7a5d0",
   "metadata": {},
   "source": [
    "# 2. Import the training dataset"
   ]
  },
  {
   "cell_type": "code",
   "execution_count": 10,
   "id": "f42c9785",
   "metadata": {},
   "outputs": [],
   "source": [
    "dataset_train = pd.read_csv(\"Google_Stock_Price_Train.csv\")\n",
    "dataset_test  = pd.read_csv(\"Google_Stock_Price_Test.csv\")\n",
    "training_set = dataset_train.iloc[:,1:2].values"
   ]
  },
  {
   "cell_type": "markdown",
   "id": "a236e194",
   "metadata": {},
   "source": [
    "# 3. Perform feature scaling to transform the data"
   ]
  },
  {
   "cell_type": "code",
   "execution_count": 11,
   "id": "8bf9a0fc",
   "metadata": {},
   "outputs": [],
   "source": [
    "# feature Scaling\n",
    "from sklearn.preprocessing import MinMaxScaler\n",
    "\n",
    "sc = MinMaxScaler(feature_range=(0,1))\n",
    "\n",
    "training_set_scaled = sc.fit_transform(training_set)"
   ]
  },
  {
   "cell_type": "markdown",
   "id": "279551ae",
   "metadata": {},
   "source": [
    "# 4. Create a data structure with 60-time steps and 1 output"
   ]
  },
  {
   "cell_type": "code",
   "execution_count": 12,
   "id": "d6064a93",
   "metadata": {},
   "outputs": [],
   "source": [
    "# Create a data structure with 60-time steps and 1 output\n",
    "\n",
    "X_train = []\n",
    "y_train = []\n",
    "\n",
    "for i in range (60, 1258):\n",
    "    X_train.append(training_set_scaled[i-60:i,0])\n",
    "    y_train.append(training_set_scaled[i,0])\n",
    "X_train, y_train = np.array(X_train), np.array(y_train)\n",
    "\n",
    "# Resshapping\n",
    "\n",
    "X_train = np.reshape(X_train, (X_train.shape[0], X_train.shape[1],1))"
   ]
  },
  {
   "cell_type": "markdown",
   "id": "e85c3a15",
   "metadata": {},
   "source": [
    "# 5. Import Keras library and its packages"
   ]
  },
  {
   "cell_type": "code",
   "execution_count": 13,
   "id": "88e1ea3e",
   "metadata": {},
   "outputs": [],
   "source": [
    "from keras.models import Sequential\n",
    "from keras.layers import Dense\n",
    "from keras.layers import LSTM\n",
    "from keras.layers import Dropout"
   ]
  },
  {
   "cell_type": "markdown",
   "id": "7efb0db5",
   "metadata": {},
   "source": [
    "# 6. Initialize the RNN"
   ]
  },
  {
   "cell_type": "code",
   "execution_count": 14,
   "id": "17f75b70",
   "metadata": {},
   "outputs": [],
   "source": [
    "# Initialising the RNN\n",
    "regressor = Sequential()"
   ]
  },
  {
   "cell_type": "markdown",
   "id": "7ca5bfcc",
   "metadata": {},
   "source": [
    "# 7. Add the LSTM layers and some dropout regularization."
   ]
  },
  {
   "cell_type": "code",
   "execution_count": 16,
   "id": "8f5f1d28",
   "metadata": {},
   "outputs": [],
   "source": [
    "# Adding the first LSTM Layer and some Dropout regularisation \n",
    "\n",
    "regressor.add(LSTM(units=50, return_sequences=True, input_shape=(X_train.shape[1],1)))\n",
    "regressor.add(Dropout(0.2))\n",
    "\n",
    "\n",
    "# Adding the second LSTM Layer and some Dropout regularisation \n",
    "\n",
    "regressor.add(LSTM(units=50, return_sequences=True,))\n",
    "regressor.add(Dropout(0.2))\n",
    "\n",
    "# Adding the third  LSTM Layer and some Dropout regularisation \n",
    "\n",
    "regressor.add(LSTM(units=50, return_sequences=True,))\n",
    "regressor.add(Dropout(0.2))\n",
    "\n",
    "\n",
    "# Adding the third  LSTM Layer and some Dropout regularisation \n",
    "\n",
    "regressor.add(LSTM(units=50))\n",
    "regressor.add(Dropout(0.2))\n"
   ]
  },
  {
   "cell_type": "markdown",
   "id": "0c2f8f33",
   "metadata": {},
   "source": [
    "# 8. Add the output layer"
   ]
  },
  {
   "cell_type": "code",
   "execution_count": 17,
   "id": "28983b39",
   "metadata": {},
   "outputs": [],
   "source": [
    "# Adding the output Layer\n",
    "regressor.add(Dense(units=1))"
   ]
  },
  {
   "cell_type": "markdown",
   "id": "e592bf4a",
   "metadata": {},
   "source": [
    "# 9. Compile the RNN"
   ]
  },
  {
   "cell_type": "code",
   "execution_count": 18,
   "id": "f1ba9d99",
   "metadata": {},
   "outputs": [],
   "source": [
    "regressor.compile(optimizer=\"adam\", loss=\"mean_squared_error\")"
   ]
  },
  {
   "cell_type": "markdown",
   "id": "408897ee",
   "metadata": {},
   "source": [
    "# 10. Fit the RNN to the training set"
   ]
  },
  {
   "cell_type": "code",
   "execution_count": 21,
   "id": "0838c45d",
   "metadata": {},
   "outputs": [
    {
     "name": "stdout",
     "output_type": "stream",
     "text": [
      "Epoch 1/100\n",
      "38/38 [==============================] - 3s 72ms/step - loss: 5.6021e-04\n",
      "Epoch 2/100\n",
      "38/38 [==============================] - 3s 84ms/step - loss: 6.3704e-04\n",
      "Epoch 3/100\n",
      "38/38 [==============================] - 3s 76ms/step - loss: 6.3578e-04\n",
      "Epoch 4/100\n",
      "38/38 [==============================] - 3s 66ms/step - loss: 5.2056e-04\n",
      "Epoch 5/100\n",
      "38/38 [==============================] - 3s 87ms/step - loss: 6.4996e-04\n",
      "Epoch 6/100\n",
      "38/38 [==============================] - 3s 80ms/step - loss: 5.7646e-04\n",
      "Epoch 7/100\n",
      "38/38 [==============================] - 3s 84ms/step - loss: 6.1775e-04\n",
      "Epoch 8/100\n",
      "38/38 [==============================] - 2s 66ms/step - loss: 6.4385e-04\n",
      "Epoch 9/100\n",
      "38/38 [==============================] - 3s 68ms/step - loss: 5.8798e-04\n",
      "Epoch 10/100\n",
      "38/38 [==============================] - 3s 83ms/step - loss: 5.5603e-04\n",
      "Epoch 11/100\n",
      "38/38 [==============================] - 3s 66ms/step - loss: 6.3789e-04\n",
      "Epoch 12/100\n",
      "38/38 [==============================] - 3s 85ms/step - loss: 5.8782e-04\n",
      "Epoch 13/100\n",
      "38/38 [==============================] - 3s 87ms/step - loss: 6.1909e-04\n",
      "Epoch 14/100\n",
      "38/38 [==============================] - 3s 80ms/step - loss: 5.6759e-04\n",
      "Epoch 15/100\n",
      "38/38 [==============================] - 2s 64ms/step - loss: 5.5852e-04\n",
      "Epoch 16/100\n",
      "38/38 [==============================] - 3s 74ms/step - loss: 5.5283e-04\n",
      "Epoch 17/100\n",
      "38/38 [==============================] - 3s 83ms/step - loss: 5.6420e-04\n",
      "Epoch 18/100\n",
      "38/38 [==============================] - 3s 77ms/step - loss: 5.7859e-04\n",
      "Epoch 19/100\n",
      "38/38 [==============================] - 2s 62ms/step - loss: 5.9721e-04\n",
      "Epoch 20/100\n",
      "38/38 [==============================] - 3s 75ms/step - loss: 5.2739e-04\n",
      "Epoch 21/100\n",
      "38/38 [==============================] - 3s 72ms/step - loss: 6.0842e-04\n",
      "Epoch 22/100\n",
      "38/38 [==============================] - 3s 83ms/step - loss: 5.6829e-04\n",
      "Epoch 23/100\n",
      "38/38 [==============================] - 3s 71ms/step - loss: 6.5850e-04\n",
      "Epoch 24/100\n",
      "38/38 [==============================] - 3s 84ms/step - loss: 5.6781e-04\n",
      "Epoch 25/100\n",
      "38/38 [==============================] - 3s 79ms/step - loss: 5.5812e-04\n",
      "Epoch 26/100\n",
      "38/38 [==============================] - 3s 65ms/step - loss: 5.3034e-04\n",
      "Epoch 27/100\n",
      "38/38 [==============================] - 3s 80ms/step - loss: 5.7800e-04\n",
      "Epoch 28/100\n",
      "38/38 [==============================] - 3s 65ms/step - loss: 5.5879e-04\n",
      "Epoch 29/100\n",
      "38/38 [==============================] - 3s 84ms/step - loss: 5.4735e-04\n",
      "Epoch 30/100\n",
      "38/38 [==============================] - 3s 83ms/step - loss: 5.1765e-04\n",
      "Epoch 31/100\n",
      "38/38 [==============================] - 3s 73ms/step - loss: 5.7905e-04\n",
      "Epoch 32/100\n",
      "38/38 [==============================] - 2s 63ms/step - loss: 4.8910e-04\n",
      "Epoch 33/100\n",
      "38/38 [==============================] - 3s 82ms/step - loss: 5.0982e-04\n",
      "Epoch 34/100\n",
      "38/38 [==============================] - 3s 67ms/step - loss: 4.9629e-04\n",
      "Epoch 35/100\n",
      "38/38 [==============================] - 3s 83ms/step - loss: 5.2244e-04\n",
      "Epoch 36/100\n",
      "38/38 [==============================] - 3s 76ms/step - loss: 5.0991e-04\n",
      "Epoch 37/100\n",
      "38/38 [==============================] - 3s 85ms/step - loss: 4.9300e-04\n",
      "Epoch 38/100\n",
      "38/38 [==============================] - 3s 75ms/step - loss: 5.2991e-04\n",
      "Epoch 39/100\n",
      "38/38 [==============================] - 2s 60ms/step - loss: 5.2945e-04\n",
      "Epoch 40/100\n",
      "38/38 [==============================] - 3s 89ms/step - loss: 5.4246e-04\n",
      "Epoch 41/100\n",
      "38/38 [==============================] - 3s 76ms/step - loss: 5.4884e-04\n",
      "Epoch 42/100\n",
      "38/38 [==============================] - 2s 64ms/step - loss: 5.1473e-04\n",
      "Epoch 43/100\n",
      "38/38 [==============================] - 3s 75ms/step - loss: 5.3824e-04\n",
      "Epoch 44/100\n",
      "38/38 [==============================] - 3s 71ms/step - loss: 5.1757e-04\n",
      "Epoch 45/100\n",
      "38/38 [==============================] - 3s 82ms/step - loss: 5.3482e-04\n",
      "Epoch 46/100\n",
      "38/38 [==============================] - 3s 84ms/step - loss: 4.8454e-04\n",
      "Epoch 47/100\n",
      "38/38 [==============================] - 3s 75ms/step - loss: 4.4602e-04\n",
      "Epoch 48/100\n",
      "38/38 [==============================] - 2s 62ms/step - loss: 5.2578e-04\n",
      "Epoch 49/100\n",
      "38/38 [==============================] - 3s 89ms/step - loss: 5.5013e-04\n",
      "Epoch 50/100\n",
      "38/38 [==============================] - 2s 63ms/step - loss: 4.7109e-04\n",
      "Epoch 51/100\n",
      "38/38 [==============================] - 3s 71ms/step - loss: 4.6219e-04\n",
      "Epoch 52/100\n",
      "38/38 [==============================] - 3s 86ms/step - loss: 5.0702e-04\n",
      "Epoch 53/100\n",
      "38/38 [==============================] - 2s 62ms/step - loss: 4.4905e-04\n",
      "Epoch 54/100\n",
      "38/38 [==============================] - 3s 72ms/step - loss: 4.9569e-04\n",
      "Epoch 55/100\n",
      "38/38 [==============================] - 3s 80ms/step - loss: 4.9602e-04\n",
      "Epoch 56/100\n",
      "38/38 [==============================] - 3s 84ms/step - loss: 5.5117e-04\n",
      "Epoch 57/100\n",
      "38/38 [==============================] - 3s 71ms/step - loss: 5.0471e-04\n",
      "Epoch 58/100\n",
      "38/38 [==============================] - 3s 76ms/step - loss: 4.6512e-04\n",
      "Epoch 59/100\n",
      "38/38 [==============================] - 3s 69ms/step - loss: 5.1727e-04\n",
      "Epoch 60/100\n",
      "38/38 [==============================] - 4s 92ms/step - loss: 4.7005e-04\n",
      "Epoch 61/100\n",
      "38/38 [==============================] - 3s 70ms/step - loss: 5.1086e-04\n",
      "Epoch 62/100\n",
      "38/38 [==============================] - 2s 63ms/step - loss: 4.9626e-04\n",
      "Epoch 63/100\n",
      "38/38 [==============================] - 3s 78ms/step - loss: 4.7281e-04\n",
      "Epoch 64/100\n",
      "38/38 [==============================] - 3s 84ms/step - loss: 5.0906e-04\n",
      "Epoch 65/100\n",
      "38/38 [==============================] - 3s 84ms/step - loss: 5.0953e-04\n",
      "Epoch 66/100\n",
      "38/38 [==============================] - 3s 69ms/step - loss: 5.6654e-04\n",
      "Epoch 67/100\n",
      "38/38 [==============================] - 3s 88ms/step - loss: 4.8165e-04\n",
      "Epoch 68/100\n",
      "38/38 [==============================] - 3s 77ms/step - loss: 4.7590e-04\n",
      "Epoch 69/100\n",
      "38/38 [==============================] - 2s 61ms/step - loss: 5.3149e-04\n",
      "Epoch 70/100\n",
      "38/38 [==============================] - 3s 82ms/step - loss: 5.0283e-04\n",
      "Epoch 71/100\n",
      "38/38 [==============================] - 3s 83ms/step - loss: 5.2257e-04\n",
      "Epoch 72/100\n",
      "38/38 [==============================] - 3s 71ms/step - loss: 4.6275e-04\n",
      "Epoch 73/100\n",
      "38/38 [==============================] - 2s 64ms/step - loss: 5.1433e-04\n",
      "Epoch 74/100\n",
      "38/38 [==============================] - 3s 80ms/step - loss: 4.5835e-04\n",
      "Epoch 75/100\n",
      "38/38 [==============================] - 3s 84ms/step - loss: 5.2482e-04\n",
      "Epoch 76/100\n",
      "38/38 [==============================] - 3s 66ms/step - loss: 4.9591e-04\n",
      "Epoch 77/100\n",
      "38/38 [==============================] - 3s 84ms/step - loss: 4.9726e-04\n",
      "Epoch 78/100\n",
      "38/38 [==============================] - 3s 74ms/step - loss: 5.0230e-04\n",
      "Epoch 79/100\n",
      "38/38 [==============================] - 3s 84ms/step - loss: 4.6141e-04\n",
      "Epoch 80/100\n",
      "38/38 [==============================] - 3s 69ms/step - loss: 4.4641e-04\n",
      "Epoch 81/100\n",
      "38/38 [==============================] - 2s 64ms/step - loss: 4.9386e-04\n",
      "Epoch 82/100\n",
      "38/38 [==============================] - 3s 89ms/step - loss: 5.2679e-04\n",
      "Epoch 83/100\n",
      "38/38 [==============================] - 3s 69ms/step - loss: 4.6792e-04\n",
      "Epoch 84/100\n",
      "38/38 [==============================] - 3s 84ms/step - loss: 4.5997e-04\n",
      "Epoch 85/100\n",
      "38/38 [==============================] - 3s 72ms/step - loss: 4.4978e-04\n",
      "Epoch 86/100\n",
      "38/38 [==============================] - 3s 83ms/step - loss: 4.9810e-04\n",
      "Epoch 87/100\n",
      "38/38 [==============================] - 3s 76ms/step - loss: 4.7504e-04\n",
      "Epoch 88/100\n",
      "38/38 [==============================] - 2s 63ms/step - loss: 4.9660e-04\n",
      "Epoch 89/100\n",
      "38/38 [==============================] - 3s 75ms/step - loss: 5.6336e-04\n",
      "Epoch 90/100\n",
      "38/38 [==============================] - 3s 84ms/step - loss: 4.7144e-04\n",
      "Epoch 91/100\n",
      "38/38 [==============================] - 3s 84ms/step - loss: 4.3557e-04\n",
      "Epoch 92/100\n",
      "38/38 [==============================] - 2s 64ms/step - loss: 4.7722e-04\n",
      "Epoch 93/100\n",
      "38/38 [==============================] - 3s 69ms/step - loss: 5.2158e-04\n",
      "Epoch 94/100\n",
      "38/38 [==============================] - 3s 83ms/step - loss: 4.7530e-04\n",
      "Epoch 95/100\n",
      "38/38 [==============================] - 3s 67ms/step - loss: 4.8121e-04\n",
      "Epoch 96/100\n"
     ]
    },
    {
     "name": "stdout",
     "output_type": "stream",
     "text": [
      "38/38 [==============================] - 3s 84ms/step - loss: 4.3518e-04\n",
      "Epoch 97/100\n",
      "38/38 [==============================] - 3s 84ms/step - loss: 4.5702e-04\n",
      "Epoch 98/100\n",
      "38/38 [==============================] - 3s 68ms/step - loss: 4.2468e-04\n",
      "Epoch 99/100\n",
      "38/38 [==============================] - 3s 65ms/step - loss: 4.8515e-04\n",
      "Epoch 100/100\n",
      "38/38 [==============================] - 3s 81ms/step - loss: 4.8846e-04\n"
     ]
    },
    {
     "data": {
      "text/plain": [
       "<keras.callbacks.History at 0x1e3bc096280>"
      ]
     },
     "execution_count": 21,
     "metadata": {},
     "output_type": "execute_result"
    }
   ],
   "source": [
    "regressor.fit(X_train, y_train, epochs = 100, batch_size = 32)"
   ]
  },
  {
   "cell_type": "markdown",
   "id": "8d4145cd",
   "metadata": {},
   "source": [
    "# 11. Load the stock price test data for 2017"
   ]
  },
  {
   "cell_type": "code",
   "execution_count": 22,
   "id": "553831f3",
   "metadata": {},
   "outputs": [],
   "source": [
    "dataset_test  = pd.read_csv(\"Google_Stock_Price_Test.csv\")\n",
    "real_stock_price = dataset_test.iloc[:,1:2].values"
   ]
  },
  {
   "cell_type": "markdown",
   "id": "d0264f96",
   "metadata": {},
   "source": [
    "# 12. Get the predicted stock price for 2017"
   ]
  },
  {
   "cell_type": "code",
   "execution_count": 25,
   "id": "027c1075",
   "metadata": {},
   "outputs": [],
   "source": [
    "dataset_total = pd.concat((dataset_train[\"Open\"], dataset_test[\"Open\"]), axis=0)\n",
    "inputs = dataset_total[len(dataset_total)- len(dataset_test)-60:].values\n",
    "inputs = inputs.reshape(-1,1)\n",
    "inputs = sc.transform(inputs)\n",
    "X_test = []\n",
    "for i in range (60,80):\n",
    "    X_test.append(inputs[i-60:i,0])\n",
    "X_test = np.array(X_test)\n",
    "X_test = np.reshape(X_test, (X_test.shape[0], X_test.shape[1],1))\n",
    "predicted_stock_price = regressor.predict(X_test)\n",
    "predicted_stock_price = sc.inverse_transform(predicted_stock_price)"
   ]
  },
  {
   "cell_type": "markdown",
   "id": "a61d8dab",
   "metadata": {},
   "source": [
    "# 13. Visualize the results of predicted and real stock price"
   ]
  },
  {
   "cell_type": "code",
   "execution_count": 28,
   "id": "3b812d81",
   "metadata": {},
   "outputs": [
    {
     "data": {
      "image/png": "[encoded data removed]",
      "text/plain": [
       "<Figure size 432x288 with 1 Axes>"
      ]
     },
     "metadata": {
      "needs_background": "light"
     },
     "output_type": "display_data"
    }
   ],
   "source": [
    "plt.plot(real_stock_price, color = \"red\", label = \"Real Google Stock Price\")\n",
    "plt.plot(predicted_stock_price, color=\"blue\", label =\"Predicted Google Stock Price\")\n",
    "plt.title(\"Google Stock Prediction\")\n",
    "plt.xlabel(\"Time\")\n",
    "plt.ylabel(\"Google Stock Price\")\n",
    "plt.legend(bbox_to_anchor=(1.04,1), loc=\"upper left\")\n",
    "plt.show()"
   ]
  },
  {
   "cell_type": "code",
   "execution_count": null,
   "id": "7415a1c1",
   "metadata": {},
   "outputs": [],
   "source": []
  },
  {
   "cell_type": "code",
   "execution_count": null,
   "id": "4f1b0d6e",
   "metadata": {},
   "outputs": [],
   "source": []
  },
  {
   "cell_type": "code",
   "execution_count": null,
   "id": "cdb5374e",
   "metadata": {},
   "outputs": [],
   "source": []
  },
  {
   "cell_type": "code",
   "execution_count": null,
   "id": "0d715d3a",
   "metadata": {},
   "outputs": [],
   "source": []
  },
  {
   "cell_type": "code",
   "execution_count": null,
   "id": "4073fd4b",
   "metadata": {},
   "outputs": [],
   "source": []
  },
  {
   "cell_type": "code",
   "execution_count": null,
   "id": "66154d39",
   "metadata": {},
   "outputs": [],
   "source": []
  },
  {
   "cell_type": "code",
   "execution_count": null,
   "id": "618dbde5",
   "metadata": {},
   "outputs": [],
   "source": []
  },
  {
   "cell_type": "code",
   "execution_count": null,
   "id": "1ab364fe",
   "metadata": {},
   "outputs": [],
   "source": []
  },
  {
   "cell_type": "code",
   "execution_count": null,
   "id": "c03a8f72",
   "metadata": {},
   "outputs": [],
   "source": []
  },
  {
   "cell_type": "code",
   "execution_count": null,
   "id": "1676cef0",
   "metadata": {},
   "outputs": [],
   "source": []
  },
  {
   "cell_type": "code",
   "execution_count": null,
   "id": "dd94d23c",
   "metadata": {},
   "outputs": [],
   "source": []
  },
  {
   "cell_type": "code",
   "execution_count": null,
   "id": "4c36b5ae",
   "metadata": {},
   "outputs": [],
   "source": []
  },
  {
   "cell_type": "code",
   "execution_count": null,
   "id": "b421a8ef",
   "metadata": {},
   "outputs": [],
   "source": []
  },
  {
   "cell_type": "code",
   "execution_count": null,
   "id": "881e152e",
   "metadata": {},
   "outputs": [],
   "source": []
  },
  {
   "cell_type": "code",
   "execution_count": null,
   "id": "39062c39",
   "metadata": {},
   "outputs": [],
   "source": []
  },
  {
   "cell_type": "code",
   "execution_count": null,
   "id": "0e182613",
   "metadata": {},
   "outputs": [],
   "source": []
  },
  {
   "cell_type": "code",
   "execution_count": null,
   "id": "369d0221",
   "metadata": {},
   "outputs": [],
   "source": []
  },
  {
   "cell_type": "code",
   "execution_count": null,
   "id": "eb66e880",
   "metadata": {},
   "outputs": [],
   "source": []
  },
  {
   "cell_type": "code",
   "execution_count": null,
   "id": "6b6f262b",
   "metadata": {},
   "outputs": [],
   "source": []
  },
  {
   "cell_type": "code",
   "execution_count": null,
   "id": "c9b54a6e",
   "metadata": {},
   "outputs": [],
   "source": []
  },
  {
   "cell_type": "code",
   "execution_count": null,
   "id": "ff4dbb20",
   "metadata": {},
   "outputs": [],
   "source": []
  },
  {
   "cell_type": "code",
   "execution_count": null,
   "id": "4e4a5d04",
   "metadata": {},
   "outputs": [],
   "source": []
  },
  {
   "cell_type": "code",
   "execution_count": null,
   "id": "95e0c81c",
   "metadata": {},
   "outputs": [],
   "source": []
  },
  {
   "cell_type": "code",
   "execution_count": null,
   "id": "12417e20",
   "metadata": {},
   "outputs": [],
   "source": []
  },
  {
   "cell_type": "code",
   "execution_count": null,
   "id": "bf7d7752",
   "metadata": {},
   "outputs": [],
   "source": []
  }
 ],
 "metadata": {
  "kernelspec": {
   "display_name": "Python 3 (ipykernel)",
   "language": "python",
   "name": "python3"
  },
  "language_info": {
   "codemirror_mode": {
    "name": "ipython",
    "version": 3
   },
   "file_extension": ".py",
   "mimetype": "text/x-python",
   "name": "python",
   "nbconvert_exporter": "python",
   "pygments_lexer": "ipython3",
   "version": "3.9.7"
  }
 },
 "nbformat": 4,
 "nbformat_minor": 5
}
