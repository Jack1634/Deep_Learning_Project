{
 "cells": [
  {
   "cell_type": "markdown",
   "metadata": {
    "id": "PrH59S4kW0UC"
   },
   "source": [
    "# Product Amount Forecast by Time"
   ]
  },
  {
   "cell_type": "markdown",
   "metadata": {
    "id": "VmTfi-sqW0UK"
   },
   "source": [
    "## Data\n",
    "\n",
    "Info about this data set: https://fred.stlouisfed.org/series/IPN31152N\n",
    "\n",
    "\n",
    "Units:  Index 2012=100, Not Seasonally Adjusted\n",
    "\n",
    "Frequency:  Monthly\n",
    "\n",
    "The industrial production (IP) index measures the real output of all relevant establishments located in the United States, regardless of their ownership, but not those located in U.S. territories.\n",
    "\n",
    "NAICS = 31152\n",
    "\n",
    "Source Code: IP.N31152.N\n",
    "\n",
    "Suggested Citation:\n",
    "Board of Governors of the Federal Reserve System (US), Industrial Production: Nondurable Goods: Ice cream and frozen dessert [IPN31152N], retrieved from FRED, Federal Reserve Bank of St. Louis; https://fred.stlouisfed.org/series/IPN31152N, November 16, 2019."
   ]
  },
  {
   "cell_type": "markdown",
   "metadata": {
    "id": "JgbAMYoeW0UM"
   },
   "source": [
    "## Import Libraries"
   ]
  },
  {
   "cell_type": "code",
   "execution_count": 123,
   "metadata": {
    "id": "iALmCpKJW0UN"
   },
   "outputs": [],
   "source": [
    "import numpy as np\n",
    "import pandas as pd\n",
    "import seaborn as sns\n",
    "import matplotlib.pyplot as plt\n",
    "import warnings\n",
    "warnings.filterwarnings('ignore')"
   ]
  },
  {
   "cell_type": "markdown",
   "metadata": {
    "id": "w5nV2oy4W0UP"
   },
   "source": [
    "## Indest Data"
   ]
  },
  {
   "cell_type": "code",
   "execution_count": 124,
   "metadata": {
    "id": "m0PzGfw-W0UP"
   },
   "outputs": [
    {
     "data": {
      "text/html": [
       "<div>\n",
       "<style scoped>\n",
       "    .dataframe tbody tr th:only-of-type {\n",
       "        vertical-align: middle;\n",
       "    }\n",
       "\n",
       "    .dataframe tbody tr th {\n",
       "        vertical-align: top;\n",
       "    }\n",
       "\n",
       "    .dataframe thead th {\n",
       "        text-align: right;\n",
       "    }\n",
       "</style>\n",
       "<table border=\"1\" class=\"dataframe\">\n",
       "  <thead>\n",
       "    <tr style=\"text-align: right;\">\n",
       "      <th></th>\n",
       "      <th>IPN31152N</th>\n",
       "    </tr>\n",
       "    <tr>\n",
       "      <th>DATE</th>\n",
       "      <th></th>\n",
       "    </tr>\n",
       "  </thead>\n",
       "  <tbody>\n",
       "    <tr>\n",
       "      <th>1972-01-01</th>\n",
       "      <td>59.9622</td>\n",
       "    </tr>\n",
       "    <tr>\n",
       "      <th>1972-02-01</th>\n",
       "      <td>67.0605</td>\n",
       "    </tr>\n",
       "    <tr>\n",
       "      <th>1972-03-01</th>\n",
       "      <td>74.2350</td>\n",
       "    </tr>\n",
       "    <tr>\n",
       "      <th>1972-04-01</th>\n",
       "      <td>78.1120</td>\n",
       "    </tr>\n",
       "    <tr>\n",
       "      <th>1972-05-01</th>\n",
       "      <td>84.7636</td>\n",
       "    </tr>\n",
       "  </tbody>\n",
       "</table>\n",
       "</div>"
      ],
      "text/plain": [
       "            IPN31152N\n",
       "DATE                 \n",
       "1972-01-01    59.9622\n",
       "1972-02-01    67.0605\n",
       "1972-03-01    74.2350\n",
       "1972-04-01    78.1120\n",
       "1972-05-01    84.7636"
      ]
     },
     "execution_count": 124,
     "metadata": {},
     "output_type": "execute_result"
    }
   ],
   "source": [
    "df = pd.read_csv('Frozen_Dessert_Production.csv',index_col='DATE', parse_dates=True)\n",
    "df.head()"
   ]
  },
  {
   "cell_type": "markdown",
   "metadata": {
    "id": "r1DNqwCLW0UQ"
   },
   "source": [
    "## Exploratory Data Analysis and Visualization"
   ]
  },
  {
   "cell_type": "markdown",
   "metadata": {
    "id": "D_O-lYffW0UR"
   },
   "source": [
    "1. Implement basic steps to see how is your data looks like\n",
    "2. Change the column name as \"Production\"\n",
    "2. Plot your data and see its seasonalty"
   ]
  },
  {
   "cell_type": "code",
   "execution_count": 125,
   "metadata": {
    "id": "bYARJqkAW0US"
   },
   "outputs": [
    {
     "name": "stdout",
     "output_type": "stream",
     "text": [
      "<class 'pandas.core.frame.DataFrame'>\n",
      "DatetimeIndex: 573 entries, 1972-01-01 to 2019-09-01\n",
      "Data columns (total 1 columns):\n",
      " #   Column     Non-Null Count  Dtype  \n",
      "---  ------     --------------  -----  \n",
      " 0   IPN31152N  573 non-null    float64\n",
      "dtypes: float64(1)\n",
      "memory usage: 9.0 KB\n"
     ]
    }
   ],
   "source": [
    "df.info()"
   ]
  },
  {
   "cell_type": "code",
   "execution_count": 126,
   "metadata": {},
   "outputs": [
    {
     "data": {
      "text/plain": [
       "(573, 1)"
      ]
     },
     "execution_count": 126,
     "metadata": {},
     "output_type": "execute_result"
    }
   ],
   "source": [
    "df.shape"
   ]
  },
  {
   "cell_type": "code",
   "execution_count": 127,
   "metadata": {},
   "outputs": [
    {
     "data": {
      "text/html": [
       "<div>\n",
       "<style scoped>\n",
       "    .dataframe tbody tr th:only-of-type {\n",
       "        vertical-align: middle;\n",
       "    }\n",
       "\n",
       "    .dataframe tbody tr th {\n",
       "        vertical-align: top;\n",
       "    }\n",
       "\n",
       "    .dataframe thead th {\n",
       "        text-align: right;\n",
       "    }\n",
       "</style>\n",
       "<table border=\"1\" class=\"dataframe\">\n",
       "  <thead>\n",
       "    <tr style=\"text-align: right;\">\n",
       "      <th></th>\n",
       "      <th>IPN31152N</th>\n",
       "    </tr>\n",
       "  </thead>\n",
       "  <tbody>\n",
       "    <tr>\n",
       "      <th>count</th>\n",
       "      <td>573.000000</td>\n",
       "    </tr>\n",
       "    <tr>\n",
       "      <th>mean</th>\n",
       "      <td>109.895545</td>\n",
       "    </tr>\n",
       "    <tr>\n",
       "      <th>std</th>\n",
       "      <td>27.950571</td>\n",
       "    </tr>\n",
       "    <tr>\n",
       "      <th>min</th>\n",
       "      <td>58.659800</td>\n",
       "    </tr>\n",
       "    <tr>\n",
       "      <th>25%</th>\n",
       "      <td>88.935500</td>\n",
       "    </tr>\n",
       "    <tr>\n",
       "      <th>50%</th>\n",
       "      <td>107.643000</td>\n",
       "    </tr>\n",
       "    <tr>\n",
       "      <th>75%</th>\n",
       "      <td>128.277700</td>\n",
       "    </tr>\n",
       "    <tr>\n",
       "      <th>max</th>\n",
       "      <td>196.173700</td>\n",
       "    </tr>\n",
       "  </tbody>\n",
       "</table>\n",
       "</div>"
      ],
      "text/plain": [
       "        IPN31152N\n",
       "count  573.000000\n",
       "mean   109.895545\n",
       "std     27.950571\n",
       "min     58.659800\n",
       "25%     88.935500\n",
       "50%    107.643000\n",
       "75%    128.277700\n",
       "max    196.173700"
      ]
     },
     "execution_count": 127,
     "metadata": {},
     "output_type": "execute_result"
    }
   ],
   "source": [
    "df.describe()"
   ]
  },
  {
   "cell_type": "code",
   "execution_count": 128,
   "metadata": {},
   "outputs": [
    {
     "data": {
      "text/plain": [
       "IPN31152N    0\n",
       "dtype: int64"
      ]
     },
     "execution_count": 128,
     "metadata": {},
     "output_type": "execute_result"
    }
   ],
   "source": [
    "df.isnull().sum()"
   ]
  },
  {
   "cell_type": "code",
   "execution_count": 129,
   "metadata": {},
   "outputs": [
    {
     "data": {
      "text/plain": [
       "0"
      ]
     },
     "execution_count": 129,
     "metadata": {},
     "output_type": "execute_result"
    }
   ],
   "source": [
    "df.duplicated().sum()"
   ]
  },
  {
   "cell_type": "code",
   "execution_count": 130,
   "metadata": {},
   "outputs": [
    {
     "data": {
      "text/plain": [
       "Index(['IPN31152N'], dtype='object')"
      ]
     },
     "execution_count": 130,
     "metadata": {},
     "output_type": "execute_result"
    }
   ],
   "source": [
    "df.columns"
   ]
  },
  {
   "cell_type": "code",
   "execution_count": 131,
   "metadata": {},
   "outputs": [],
   "source": [
    "df.rename(columns={\"IPN31152N\" :\"Production\"}, inplace=True)"
   ]
  },
  {
   "cell_type": "code",
   "execution_count": 132,
   "metadata": {},
   "outputs": [
    {
     "data": {
      "text/plain": [
       "Index(['Production'], dtype='object')"
      ]
     },
     "execution_count": 132,
     "metadata": {},
     "output_type": "execute_result"
    }
   ],
   "source": [
    "df.columns"
   ]
  },
  {
   "cell_type": "code",
   "execution_count": 133,
   "metadata": {},
   "outputs": [
    {
     "data": {
      "text/html": [
       "<div>\n",
       "<style scoped>\n",
       "    .dataframe tbody tr th:only-of-type {\n",
       "        vertical-align: middle;\n",
       "    }\n",
       "\n",
       "    .dataframe tbody tr th {\n",
       "        vertical-align: top;\n",
       "    }\n",
       "\n",
       "    .dataframe thead th {\n",
       "        text-align: right;\n",
       "    }\n",
       "</style>\n",
       "<table border=\"1\" class=\"dataframe\">\n",
       "  <thead>\n",
       "    <tr style=\"text-align: right;\">\n",
       "      <th></th>\n",
       "      <th>Production</th>\n",
       "    </tr>\n",
       "    <tr>\n",
       "      <th>DATE</th>\n",
       "      <th></th>\n",
       "    </tr>\n",
       "  </thead>\n",
       "  <tbody>\n",
       "    <tr>\n",
       "      <th>1972-01-01</th>\n",
       "      <td>59.9622</td>\n",
       "    </tr>\n",
       "    <tr>\n",
       "      <th>1972-02-01</th>\n",
       "      <td>67.0605</td>\n",
       "    </tr>\n",
       "    <tr>\n",
       "      <th>1972-03-01</th>\n",
       "      <td>74.2350</td>\n",
       "    </tr>\n",
       "    <tr>\n",
       "      <th>1972-04-01</th>\n",
       "      <td>78.1120</td>\n",
       "    </tr>\n",
       "    <tr>\n",
       "      <th>1972-05-01</th>\n",
       "      <td>84.7636</td>\n",
       "    </tr>\n",
       "  </tbody>\n",
       "</table>\n",
       "</div>"
      ],
      "text/plain": [
       "            Production\n",
       "DATE                  \n",
       "1972-01-01     59.9622\n",
       "1972-02-01     67.0605\n",
       "1972-03-01     74.2350\n",
       "1972-04-01     78.1120\n",
       "1972-05-01     84.7636"
      ]
     },
     "execution_count": 133,
     "metadata": {},
     "output_type": "execute_result"
    }
   ],
   "source": [
    "df.head()"
   ]
  },
  {
   "cell_type": "code",
   "execution_count": 134,
   "metadata": {},
   "outputs": [
    {
     "data": {
      "text/html": [
       "<div>\n",
       "<style scoped>\n",
       "    .dataframe tbody tr th:only-of-type {\n",
       "        vertical-align: middle;\n",
       "    }\n",
       "\n",
       "    .dataframe tbody tr th {\n",
       "        vertical-align: top;\n",
       "    }\n",
       "\n",
       "    .dataframe thead th {\n",
       "        text-align: right;\n",
       "    }\n",
       "</style>\n",
       "<table border=\"1\" class=\"dataframe\">\n",
       "  <thead>\n",
       "    <tr style=\"text-align: right;\">\n",
       "      <th></th>\n",
       "      <th>Production</th>\n",
       "    </tr>\n",
       "    <tr>\n",
       "      <th>DATE</th>\n",
       "      <th></th>\n",
       "    </tr>\n",
       "  </thead>\n",
       "  <tbody>\n",
       "    <tr>\n",
       "      <th>2019-05-01</th>\n",
       "      <td>114.5613</td>\n",
       "    </tr>\n",
       "    <tr>\n",
       "      <th>2019-06-01</th>\n",
       "      <td>124.9605</td>\n",
       "    </tr>\n",
       "    <tr>\n",
       "      <th>2019-07-01</th>\n",
       "      <td>110.2632</td>\n",
       "    </tr>\n",
       "    <tr>\n",
       "      <th>2019-08-01</th>\n",
       "      <td>102.6085</td>\n",
       "    </tr>\n",
       "    <tr>\n",
       "      <th>2019-09-01</th>\n",
       "      <td>101.5866</td>\n",
       "    </tr>\n",
       "  </tbody>\n",
       "</table>\n",
       "</div>"
      ],
      "text/plain": [
       "            Production\n",
       "DATE                  \n",
       "2019-05-01    114.5613\n",
       "2019-06-01    124.9605\n",
       "2019-07-01    110.2632\n",
       "2019-08-01    102.6085\n",
       "2019-09-01    101.5866"
      ]
     },
     "execution_count": 134,
     "metadata": {},
     "output_type": "execute_result"
    }
   ],
   "source": [
    "df.tail()"
   ]
  },
  {
   "cell_type": "code",
   "execution_count": 135,
   "metadata": {},
   "outputs": [
    {
     "data": {
      "image/png": "[encoded data removed]",
      "text/plain": [
       "<Figure size 1440x576 with 1 Axes>"
      ]
     },
     "metadata": {
      "needs_background": "light"
     },
     "output_type": "display_data"
    }
   ],
   "source": [
    "fig, ax = plt.subplots(figsize=(20,8))\n",
    "ax.plot(df[\"Production\"],color='Red')\n",
    "ax.xaxis.set_major_locator(plt.MaxNLocator(15))\n",
    "ax.set_xlabel('Date', fontsize='11')\n",
    "ax.set_ylabel('Production Amount', fontsize='11')\n",
    "plt.title('Frozen Stock Production')\n",
    "plt.grid()\n",
    "plt.show()\n"
   ]
  },
  {
   "cell_type": "code",
   "execution_count": 136,
   "metadata": {},
   "outputs": [
    {
     "data": {
      "text/plain": [
       "Production    196.1737\n",
       "Name: 2005-06-01 00:00:00, dtype: float64"
      ]
     },
     "execution_count": 136,
     "metadata": {},
     "output_type": "execute_result"
    }
   ],
   "source": [
    "df.iloc[df[\"Production\"].argmax()]"
   ]
  },
  {
   "cell_type": "code",
   "execution_count": 137,
   "metadata": {},
   "outputs": [
    {
     "data": {
      "image/png": "[encoded data removed]",
      "text/plain": [
       "<Figure size 1440x576 with 1 Axes>"
      ]
     },
     "metadata": {
      "needs_background": "light"
     },
     "output_type": "display_data"
    }
   ],
   "source": [
    "df['Production'].hist(bins=50, color='orange',figsize=(20,8));"
   ]
  },
  {
   "cell_type": "code",
   "execution_count": 138,
   "metadata": {},
   "outputs": [
    {
     "data": {
      "text/plain": [
       "<AxesSubplot:xlabel='DATE'>"
      ]
     },
     "execution_count": 138,
     "metadata": {},
     "output_type": "execute_result"
    },
    {
     "data": {
      "image/png": "[encoded data removed]",
      "text/plain": [
       "<Figure size 1152x432 with 1 Axes>"
      ]
     },
     "metadata": {
      "needs_background": "light"
     },
     "output_type": "display_data"
    }
   ],
   "source": [
    "plt.figure(figsize=(16,6))\n",
    "sns.scatterplot(data=df)"
   ]
  },
  {
   "cell_type": "markdown",
   "metadata": {
    "id": "MFgtEy1_W0UT"
   },
   "source": [
    "## Preprocessing of Data"
   ]
  },
  {
   "cell_type": "markdown",
   "metadata": {
    "id": "ZHTMB-NaW0UU"
   },
   "source": [
    "### Train Test Split"
   ]
  },
  {
   "cell_type": "code",
   "execution_count": 139,
   "metadata": {
    "id": "Zj1tmZDUW0UW"
   },
   "outputs": [],
   "source": [
    "from sklearn.model_selection import train_test_split"
   ]
  },
  {
   "cell_type": "code",
   "execution_count": 140,
   "metadata": {},
   "outputs": [
    {
     "data": {
      "text/plain": [
       "573"
      ]
     },
     "execution_count": 140,
     "metadata": {},
     "output_type": "execute_result"
    }
   ],
   "source": [
    "len(df)"
   ]
  },
  {
   "cell_type": "code",
   "execution_count": 141,
   "metadata": {},
   "outputs": [],
   "source": [
    "test_size = 24"
   ]
  },
  {
   "cell_type": "code",
   "execution_count": 142,
   "metadata": {},
   "outputs": [],
   "source": [
    "test_len = len(df)-test_size"
   ]
  },
  {
   "cell_type": "code",
   "execution_count": 143,
   "metadata": {},
   "outputs": [
    {
     "data": {
      "text/plain": [
       "549"
      ]
     },
     "execution_count": 143,
     "metadata": {},
     "output_type": "execute_result"
    }
   ],
   "source": [
    "test_ind = len(df)- test_size\n",
    "test_ind"
   ]
  },
  {
   "cell_type": "code",
   "execution_count": 144,
   "metadata": {},
   "outputs": [],
   "source": [
    "train = df.iloc[:test_ind]\n",
    "\n",
    "test = df.iloc[test_ind:]"
   ]
  },
  {
   "cell_type": "code",
   "execution_count": 145,
   "metadata": {},
   "outputs": [
    {
     "data": {
      "text/html": [
       "<div>\n",
       "<style scoped>\n",
       "    .dataframe tbody tr th:only-of-type {\n",
       "        vertical-align: middle;\n",
       "    }\n",
       "\n",
       "    .dataframe tbody tr th {\n",
       "        vertical-align: top;\n",
       "    }\n",
       "\n",
       "    .dataframe thead th {\n",
       "        text-align: right;\n",
       "    }\n",
       "</style>\n",
       "<table border=\"1\" class=\"dataframe\">\n",
       "  <thead>\n",
       "    <tr style=\"text-align: right;\">\n",
       "      <th></th>\n",
       "      <th>Production</th>\n",
       "    </tr>\n",
       "    <tr>\n",
       "      <th>DATE</th>\n",
       "      <th></th>\n",
       "    </tr>\n",
       "  </thead>\n",
       "  <tbody>\n",
       "    <tr>\n",
       "      <th>1972-01-01</th>\n",
       "      <td>59.9622</td>\n",
       "    </tr>\n",
       "    <tr>\n",
       "      <th>1972-02-01</th>\n",
       "      <td>67.0605</td>\n",
       "    </tr>\n",
       "    <tr>\n",
       "      <th>1972-03-01</th>\n",
       "      <td>74.2350</td>\n",
       "    </tr>\n",
       "    <tr>\n",
       "      <th>1972-04-01</th>\n",
       "      <td>78.1120</td>\n",
       "    </tr>\n",
       "    <tr>\n",
       "      <th>1972-05-01</th>\n",
       "      <td>84.7636</td>\n",
       "    </tr>\n",
       "    <tr>\n",
       "      <th>...</th>\n",
       "      <td>...</td>\n",
       "    </tr>\n",
       "    <tr>\n",
       "      <th>2017-05-01</th>\n",
       "      <td>116.0635</td>\n",
       "    </tr>\n",
       "    <tr>\n",
       "      <th>2017-06-01</th>\n",
       "      <td>123.0870</td>\n",
       "    </tr>\n",
       "    <tr>\n",
       "      <th>2017-07-01</th>\n",
       "      <td>116.2639</td>\n",
       "    </tr>\n",
       "    <tr>\n",
       "      <th>2017-08-01</th>\n",
       "      <td>113.1717</td>\n",
       "    </tr>\n",
       "    <tr>\n",
       "      <th>2017-09-01</th>\n",
       "      <td>97.9125</td>\n",
       "    </tr>\n",
       "  </tbody>\n",
       "</table>\n",
       "<p>549 rows × 1 columns</p>\n",
       "</div>"
      ],
      "text/plain": [
       "            Production\n",
       "DATE                  \n",
       "1972-01-01     59.9622\n",
       "1972-02-01     67.0605\n",
       "1972-03-01     74.2350\n",
       "1972-04-01     78.1120\n",
       "1972-05-01     84.7636\n",
       "...                ...\n",
       "2017-05-01    116.0635\n",
       "2017-06-01    123.0870\n",
       "2017-07-01    116.2639\n",
       "2017-08-01    113.1717\n",
       "2017-09-01     97.9125\n",
       "\n",
       "[549 rows x 1 columns]"
      ]
     },
     "execution_count": 145,
     "metadata": {},
     "output_type": "execute_result"
    }
   ],
   "source": [
    "train "
   ]
  },
  {
   "cell_type": "code",
   "execution_count": 146,
   "metadata": {},
   "outputs": [
    {
     "data": {
      "text/html": [
       "<div>\n",
       "<style scoped>\n",
       "    .dataframe tbody tr th:only-of-type {\n",
       "        vertical-align: middle;\n",
       "    }\n",
       "\n",
       "    .dataframe tbody tr th {\n",
       "        vertical-align: top;\n",
       "    }\n",
       "\n",
       "    .dataframe thead th {\n",
       "        text-align: right;\n",
       "    }\n",
       "</style>\n",
       "<table border=\"1\" class=\"dataframe\">\n",
       "  <thead>\n",
       "    <tr style=\"text-align: right;\">\n",
       "      <th></th>\n",
       "      <th>Production</th>\n",
       "    </tr>\n",
       "    <tr>\n",
       "      <th>DATE</th>\n",
       "      <th></th>\n",
       "    </tr>\n",
       "  </thead>\n",
       "  <tbody>\n",
       "    <tr>\n",
       "      <th>2017-10-01</th>\n",
       "      <td>90.4732</td>\n",
       "    </tr>\n",
       "    <tr>\n",
       "      <th>2017-11-01</th>\n",
       "      <td>77.4378</td>\n",
       "    </tr>\n",
       "    <tr>\n",
       "      <th>2017-12-01</th>\n",
       "      <td>75.8118</td>\n",
       "    </tr>\n",
       "    <tr>\n",
       "      <th>2018-01-01</th>\n",
       "      <td>83.4343</td>\n",
       "    </tr>\n",
       "    <tr>\n",
       "      <th>2018-02-01</th>\n",
       "      <td>99.4899</td>\n",
       "    </tr>\n",
       "    <tr>\n",
       "      <th>2018-03-01</th>\n",
       "      <td>107.3152</td>\n",
       "    </tr>\n",
       "    <tr>\n",
       "      <th>2018-04-01</th>\n",
       "      <td>112.4309</td>\n",
       "    </tr>\n",
       "    <tr>\n",
       "      <th>2018-05-01</th>\n",
       "      <td>110.3544</td>\n",
       "    </tr>\n",
       "    <tr>\n",
       "      <th>2018-06-01</th>\n",
       "      <td>124.5841</td>\n",
       "    </tr>\n",
       "    <tr>\n",
       "      <th>2018-07-01</th>\n",
       "      <td>117.2215</td>\n",
       "    </tr>\n",
       "    <tr>\n",
       "      <th>2018-08-01</th>\n",
       "      <td>112.6779</td>\n",
       "    </tr>\n",
       "    <tr>\n",
       "      <th>2018-09-01</th>\n",
       "      <td>103.3118</td>\n",
       "    </tr>\n",
       "    <tr>\n",
       "      <th>2018-10-01</th>\n",
       "      <td>92.1321</td>\n",
       "    </tr>\n",
       "    <tr>\n",
       "      <th>2018-11-01</th>\n",
       "      <td>82.4347</td>\n",
       "    </tr>\n",
       "    <tr>\n",
       "      <th>2018-12-01</th>\n",
       "      <td>76.7608</td>\n",
       "    </tr>\n",
       "    <tr>\n",
       "      <th>2019-01-01</th>\n",
       "      <td>86.9988</td>\n",
       "    </tr>\n",
       "    <tr>\n",
       "      <th>2019-02-01</th>\n",
       "      <td>98.1116</td>\n",
       "    </tr>\n",
       "    <tr>\n",
       "      <th>2019-03-01</th>\n",
       "      <td>116.1718</td>\n",
       "    </tr>\n",
       "    <tr>\n",
       "      <th>2019-04-01</th>\n",
       "      <td>114.9703</td>\n",
       "    </tr>\n",
       "    <tr>\n",
       "      <th>2019-05-01</th>\n",
       "      <td>114.5613</td>\n",
       "    </tr>\n",
       "    <tr>\n",
       "      <th>2019-06-01</th>\n",
       "      <td>124.9605</td>\n",
       "    </tr>\n",
       "    <tr>\n",
       "      <th>2019-07-01</th>\n",
       "      <td>110.2632</td>\n",
       "    </tr>\n",
       "    <tr>\n",
       "      <th>2019-08-01</th>\n",
       "      <td>102.6085</td>\n",
       "    </tr>\n",
       "    <tr>\n",
       "      <th>2019-09-01</th>\n",
       "      <td>101.5866</td>\n",
       "    </tr>\n",
       "  </tbody>\n",
       "</table>\n",
       "</div>"
      ],
      "text/plain": [
       "            Production\n",
       "DATE                  \n",
       "2017-10-01     90.4732\n",
       "2017-11-01     77.4378\n",
       "2017-12-01     75.8118\n",
       "2018-01-01     83.4343\n",
       "2018-02-01     99.4899\n",
       "2018-03-01    107.3152\n",
       "2018-04-01    112.4309\n",
       "2018-05-01    110.3544\n",
       "2018-06-01    124.5841\n",
       "2018-07-01    117.2215\n",
       "2018-08-01    112.6779\n",
       "2018-09-01    103.3118\n",
       "2018-10-01     92.1321\n",
       "2018-11-01     82.4347\n",
       "2018-12-01     76.7608\n",
       "2019-01-01     86.9988\n",
       "2019-02-01     98.1116\n",
       "2019-03-01    116.1718\n",
       "2019-04-01    114.9703\n",
       "2019-05-01    114.5613\n",
       "2019-06-01    124.9605\n",
       "2019-07-01    110.2632\n",
       "2019-08-01    102.6085\n",
       "2019-09-01    101.5866"
      ]
     },
     "execution_count": 146,
     "metadata": {},
     "output_type": "execute_result"
    }
   ],
   "source": [
    "test "
   ]
  },
  {
   "cell_type": "markdown",
   "metadata": {
    "id": "OhtBFsG_W0UW"
   },
   "source": [
    "### Scaling"
   ]
  },
  {
   "cell_type": "code",
   "execution_count": 147,
   "metadata": {
    "id": "xUXr6jEwW0UX"
   },
   "outputs": [],
   "source": [
    "from sklearn.preprocessing import MinMaxScaler"
   ]
  },
  {
   "cell_type": "code",
   "execution_count": 148,
   "metadata": {},
   "outputs": [],
   "source": [
    "scaler = MinMaxScaler()"
   ]
  },
  {
   "cell_type": "code",
   "execution_count": 149,
   "metadata": {},
   "outputs": [],
   "source": [
    "train_scaled = scaler.fit_transform(train)\n",
    "test_scaled = scaler.transform(test)"
   ]
  },
  {
   "cell_type": "markdown",
   "metadata": {
    "id": "mEr60eqqW0UX"
   },
   "source": [
    "## Time Series Generator"
   ]
  },
  {
   "cell_type": "code",
   "execution_count": 150,
   "metadata": {
    "id": "W7m1f77QW0UY"
   },
   "outputs": [],
   "source": [
    "from tensorflow.keras.preprocessing.sequence import TimeseriesGenerator"
   ]
  },
  {
   "cell_type": "code",
   "execution_count": 151,
   "metadata": {},
   "outputs": [],
   "source": [
    "length = 12\n",
    "batch_size = 1\n",
    "generator = TimeseriesGenerator(train_scaled, train_scaled, length = length, batch_size = batch_size)"
   ]
  },
  {
   "cell_type": "code",
   "execution_count": 152,
   "metadata": {},
   "outputs": [
    {
     "data": {
      "text/plain": [
       "537"
      ]
     },
     "execution_count": 152,
     "metadata": {},
     "output_type": "execute_result"
    }
   ],
   "source": [
    "len(generator)"
   ]
  },
  {
   "cell_type": "code",
   "execution_count": 153,
   "metadata": {},
   "outputs": [
    {
     "data": {
      "text/plain": [
       "(array([[[0.00947104],\n",
       "         [0.06108982],\n",
       "         [0.11326273],\n",
       "         [0.14145625],\n",
       "         [0.18982663],\n",
       "         [0.30495972],\n",
       "         [0.30154406],\n",
       "         [0.27416065],\n",
       "         [0.19736841],\n",
       "         [0.08532665],\n",
       "         [0.01561588],\n",
       "         [0.        ]]]),\n",
       " array([[0.01774221]]))"
      ]
     },
     "execution_count": 153,
     "metadata": {},
     "output_type": "execute_result"
    }
   ],
   "source": [
    "generator[0]"
   ]
  },
  {
   "cell_type": "code",
   "execution_count": 154,
   "metadata": {},
   "outputs": [],
   "source": [
    "X, y = generator[0]"
   ]
  },
  {
   "cell_type": "code",
   "execution_count": 155,
   "metadata": {},
   "outputs": [
    {
     "name": "stdout",
     "output_type": "stream",
     "text": [
      "Given the Array: \n",
      "[0.00947104 0.06108982 0.11326273 0.14145625 0.18982663 0.30495972\n",
      " 0.30154406 0.27416065 0.19736841 0.08532665 0.01561588 0.        ]\n",
      "Predict this y: \n",
      " [[0.01774221]]\n"
     ]
    }
   ],
   "source": [
    "print(f'Given the Array: \\n{X.flatten()}')\n",
    "print(f'Predict this y: \\n {y}')"
   ]
  },
  {
   "cell_type": "markdown",
   "metadata": {
    "id": "GXs_mchzW0UY"
   },
   "source": [
    "## Modelling & Model Performance"
   ]
  },
  {
   "cell_type": "markdown",
   "metadata": {
    "id": "_nPVqM5JW0UY"
   },
   "source": [
    "### Import related libraries"
   ]
  },
  {
   "cell_type": "code",
   "execution_count": 350,
   "metadata": {
    "id": "H0LrCgXjW0UZ"
   },
   "outputs": [],
   "source": [
    "from tensorflow.keras.models import Sequential\n",
    "from tensorflow.keras.layers import Dense, LSTM"
   ]
  },
  {
   "cell_type": "markdown",
   "metadata": {
    "id": "siUy9HKDW0UZ"
   },
   "source": [
    "### Creating Model"
   ]
  },
  {
   "cell_type": "markdown",
   "metadata": {
    "id": "MkaQEz-tW0Ua"
   },
   "source": [
    "### with \"tanh\" activation function"
   ]
  },
  {
   "cell_type": "code",
   "execution_count": 431,
   "metadata": {},
   "outputs": [],
   "source": [
    "n_features = train_scaled.shape[1]"
   ]
  },
  {
   "cell_type": "code",
   "execution_count": 432,
   "metadata": {
    "id": "AxESUUeiW0Ua"
   },
   "outputs": [],
   "source": [
    "model = Sequential()\n",
    "model.add(LSTM(100, activation = 'tanh', input_shape = (length, n_features))) #return_sequences=True, \n",
    "#model.add(LSTM(50, activation = 'tanh'))\n",
    "model.add(Dense(1)) \n",
    "model.compile(optimizer = 'adam', loss = 'mse')"
   ]
  },
  {
   "cell_type": "code",
   "execution_count": 433,
   "metadata": {},
   "outputs": [
    {
     "name": "stdout",
     "output_type": "stream",
     "text": [
      "Model: \"sequential_19\"\n",
      "_________________________________________________________________\n",
      " Layer (type)                Output Shape              Param #   \n",
      "=================================================================\n",
      " lstm_22 (LSTM)              (None, 100)               40800     \n",
      "                                                                 \n",
      " dense_19 (Dense)            (None, 1)                 101       \n",
      "                                                                 \n",
      "=================================================================\n",
      "Total params: 40,901\n",
      "Trainable params: 40,901\n",
      "Non-trainable params: 0\n",
      "_________________________________________________________________\n"
     ]
    }
   ],
   "source": [
    "model.summary()"
   ]
  },
  {
   "cell_type": "code",
   "execution_count": 434,
   "metadata": {},
   "outputs": [],
   "source": [
    "from tensorflow.keras.callbacks import EarlyStopping"
   ]
  },
  {
   "cell_type": "code",
   "execution_count": 435,
   "metadata": {},
   "outputs": [],
   "source": [
    "early_stop = EarlyStopping(monitor = 'val_loss', patience = 10)"
   ]
  },
  {
   "cell_type": "code",
   "execution_count": 436,
   "metadata": {},
   "outputs": [],
   "source": [
    "validation_generator = TimeseriesGenerator(test_scaled, test_scaled, length = length, batch_size = batch_size)"
   ]
  },
  {
   "cell_type": "code",
   "execution_count": 437,
   "metadata": {},
   "outputs": [
    {
     "data": {
      "text/plain": [
       "12"
      ]
     },
     "execution_count": 437,
     "metadata": {},
     "output_type": "execute_result"
    }
   ],
   "source": [
    "len(validation_generator)"
   ]
  },
  {
   "cell_type": "code",
   "execution_count": 438,
   "metadata": {},
   "outputs": [
    {
     "name": "stdout",
     "output_type": "stream",
     "text": [
      "Epoch 1/35\n",
      "561/561 [==============================] - 5s 7ms/step - loss: 0.0172 - val_loss: 0.0018\n",
      "Epoch 2/35\n",
      "561/561 [==============================] - 3s 6ms/step - loss: 0.0044 - val_loss: 0.0020\n",
      "Epoch 3/35\n",
      "561/561 [==============================] - 3s 6ms/step - loss: 0.0038 - val_loss: 0.0022\n",
      "Epoch 4/35\n",
      "561/561 [==============================] - 3s 6ms/step - loss: 0.0036 - val_loss: 0.0033\n",
      "Epoch 5/35\n",
      "561/561 [==============================] - 3s 6ms/step - loss: 0.0032 - val_loss: 0.0037\n",
      "Epoch 6/35\n",
      "561/561 [==============================] - 3s 6ms/step - loss: 0.0036 - val_loss: 0.0023\n",
      "Epoch 7/35\n",
      "561/561 [==============================] - 3s 6ms/step - loss: 0.0031 - val_loss: 0.0026\n",
      "Epoch 8/35\n",
      "561/561 [==============================] - 3s 6ms/step - loss: 0.0032 - val_loss: 0.0020\n",
      "Epoch 9/35\n",
      "561/561 [==============================] - 3s 6ms/step - loss: 0.0031 - val_loss: 0.0020\n",
      "Epoch 10/35\n",
      "561/561 [==============================] - 3s 6ms/step - loss: 0.0032 - val_loss: 0.0021\n",
      "Epoch 11/35\n",
      "561/561 [==============================] - 3s 5ms/step - loss: 0.0030 - val_loss: 0.0019\n"
     ]
    },
    {
     "data": {
      "text/plain": [
       "<keras.callbacks.History at 0x1ee3ae4e1c0>"
      ]
     },
     "execution_count": 438,
     "metadata": {},
     "output_type": "execute_result"
    }
   ],
   "source": [
    "model.fit_generator(generator,\n",
    "                    epochs = 35,\n",
    "                    validation_data = validation_generator,\n",
    "                   callbacks = [early_stop])"
   ]
  },
  {
   "cell_type": "code",
   "execution_count": 439,
   "metadata": {},
   "outputs": [
    {
     "data": {
      "text/plain": [
       "<AxesSubplot:>"
      ]
     },
     "execution_count": 439,
     "metadata": {},
     "output_type": "execute_result"
    },
    {
     "data": {
      "image/png": "[encoded data removed]",
      "text/plain": [
       "<Figure size 432x288 with 1 Axes>"
      ]
     },
     "metadata": {
      "needs_background": "light"
     },
     "output_type": "display_data"
    }
   ],
   "source": [
    "loss_df = pd.DataFrame(model.history.history)\n",
    "loss_df.plot()"
   ]
  },
  {
   "cell_type": "markdown",
   "metadata": {
    "id": "oa_VzNmpW0Ua"
   },
   "source": [
    "#### Evaluate on Test Data"
   ]
  },
  {
   "cell_type": "code",
   "execution_count": 440,
   "metadata": {
    "id": "Bhvrnix7W0Ub"
   },
   "outputs": [],
   "source": [
    "from sklearn.metrics import mean_absolute_error, mean_squared_error, r2_score"
   ]
  },
  {
   "cell_type": "code",
   "execution_count": 441,
   "metadata": {},
   "outputs": [],
   "source": [
    "def eval_metrics(actual, pred):\n",
    "    rmse = np.sqrt(mean_squared_error(actual, pred))\n",
    "    mae = mean_absolute_error(actual, pred)\n",
    "    mse = mean_squared_error(actual, pred)\n",
    "    score = r2_score(actual, pred)\n",
    "    return print(\"r2_score:\", score, \"\\nmae:\", mae, \"\\nmse:\",mse, \"\\nrmse:\",rmse)"
   ]
  },
  {
   "cell_type": "code",
   "execution_count": 442,
   "metadata": {},
   "outputs": [],
   "source": [
    "predictions_scaled = []\n",
    "\n",
    "first_eval_batch = train_scaled[-length:]\n",
    "current_batch = first_eval_batch.reshape((1, length, n_features))\n",
    "\n",
    "for i in range(length):\n",
    "    \n",
    "    # get prediction 1 time stamp ahead\n",
    "    current_pred = model.predict(current_batch)\n",
    "    \n",
    "    # store prediction\n",
    "    predictions_scaled.append(current_pred[0]) \n",
    "    \n",
    "    # update batch to now include prediction and drop first value\n",
    "    current_batch = np.append(current_batch[:, 1:, :], [current_pred], axis=1)"
   ]
  },
  {
   "cell_type": "code",
   "execution_count": 443,
   "metadata": {},
   "outputs": [
    {
     "data": {
      "text/plain": [
       "[array([0.23861687], dtype=float32),\n",
       " array([0.20999931], dtype=float32),\n",
       " array([0.22815198], dtype=float32),\n",
       " array([0.28310072], dtype=float32),\n",
       " array([0.34671855], dtype=float32),\n",
       " array([0.40072775], dtype=float32),\n",
       " array([0.43962806], dtype=float32),\n",
       " array([0.45967996], dtype=float32),\n",
       " array([0.45968187], dtype=float32),\n",
       " array([0.43114674], dtype=float32),\n",
       " array([0.3789819], dtype=float32),\n",
       " array([0.31214023], dtype=float32)]"
      ]
     },
     "execution_count": 443,
     "metadata": {},
     "output_type": "execute_result"
    }
   ],
   "source": [
    "predictions_scaled"
   ]
  },
  {
   "cell_type": "markdown",
   "metadata": {
    "id": "uiuwaoCZW0Ub"
   },
   "source": [
    "#### Inverse Transformations and Comparing"
   ]
  },
  {
   "cell_type": "code",
   "execution_count": 444,
   "metadata": {
    "id": "jCKSgQrxW0Uc"
   },
   "outputs": [],
   "source": [
    "predictions = scaler.inverse_transform(predictions_scaled)"
   ]
  },
  {
   "cell_type": "code",
   "execution_count": 445,
   "metadata": {},
   "outputs": [],
   "source": [
    "compare = test[:12]"
   ]
  },
  {
   "cell_type": "code",
   "execution_count": 446,
   "metadata": {},
   "outputs": [],
   "source": [
    "compare['Predictions'] = predictions"
   ]
  },
  {
   "cell_type": "code",
   "execution_count": 447,
   "metadata": {},
   "outputs": [
    {
     "data": {
      "text/html": [
       "<div>\n",
       "<style scoped>\n",
       "    .dataframe tbody tr th:only-of-type {\n",
       "        vertical-align: middle;\n",
       "    }\n",
       "\n",
       "    .dataframe tbody tr th {\n",
       "        vertical-align: top;\n",
       "    }\n",
       "\n",
       "    .dataframe thead th {\n",
       "        text-align: right;\n",
       "    }\n",
       "</style>\n",
       "<table border=\"1\" class=\"dataframe\">\n",
       "  <thead>\n",
       "    <tr style=\"text-align: right;\">\n",
       "      <th></th>\n",
       "      <th>Production</th>\n",
       "      <th>Predictions</th>\n",
       "    </tr>\n",
       "    <tr>\n",
       "      <th>DATE</th>\n",
       "      <th></th>\n",
       "      <th></th>\n",
       "    </tr>\n",
       "  </thead>\n",
       "  <tbody>\n",
       "    <tr>\n",
       "      <th>2017-10-01</th>\n",
       "      <td>90.4732</td>\n",
       "      <td>91.472936</td>\n",
       "    </tr>\n",
       "    <tr>\n",
       "      <th>2017-11-01</th>\n",
       "      <td>77.4378</td>\n",
       "      <td>87.537624</td>\n",
       "    </tr>\n",
       "    <tr>\n",
       "      <th>2017-12-01</th>\n",
       "      <td>75.8118</td>\n",
       "      <td>90.033868</td>\n",
       "    </tr>\n",
       "    <tr>\n",
       "      <th>2018-01-01</th>\n",
       "      <td>83.4343</td>\n",
       "      <td>97.590085</td>\n",
       "    </tr>\n",
       "    <tr>\n",
       "      <th>2018-02-01</th>\n",
       "      <td>99.4899</td>\n",
       "      <td>106.338420</td>\n",
       "    </tr>\n",
       "    <tr>\n",
       "      <th>2018-03-01</th>\n",
       "      <td>107.3152</td>\n",
       "      <td>113.765436</td>\n",
       "    </tr>\n",
       "    <tr>\n",
       "      <th>2018-04-01</th>\n",
       "      <td>112.4309</td>\n",
       "      <td>119.114770</td>\n",
       "    </tr>\n",
       "    <tr>\n",
       "      <th>2018-05-01</th>\n",
       "      <td>110.3544</td>\n",
       "      <td>121.872184</td>\n",
       "    </tr>\n",
       "    <tr>\n",
       "      <th>2018-06-01</th>\n",
       "      <td>124.5841</td>\n",
       "      <td>121.872447</td>\n",
       "    </tr>\n",
       "    <tr>\n",
       "      <th>2018-07-01</th>\n",
       "      <td>117.2215</td>\n",
       "      <td>117.948470</td>\n",
       "    </tr>\n",
       "    <tr>\n",
       "      <th>2018-08-01</th>\n",
       "      <td>112.6779</td>\n",
       "      <td>110.775077</td>\n",
       "    </tr>\n",
       "    <tr>\n",
       "      <th>2018-09-01</th>\n",
       "      <td>103.3118</td>\n",
       "      <td>101.583420</td>\n",
       "    </tr>\n",
       "  </tbody>\n",
       "</table>\n",
       "</div>"
      ],
      "text/plain": [
       "            Production  Predictions\n",
       "DATE                               \n",
       "2017-10-01     90.4732    91.472936\n",
       "2017-11-01     77.4378    87.537624\n",
       "2017-12-01     75.8118    90.033868\n",
       "2018-01-01     83.4343    97.590085\n",
       "2018-02-01     99.4899   106.338420\n",
       "2018-03-01    107.3152   113.765436\n",
       "2018-04-01    112.4309   119.114770\n",
       "2018-05-01    110.3544   121.872184\n",
       "2018-06-01    124.5841   121.872447\n",
       "2018-07-01    117.2215   117.948470\n",
       "2018-08-01    112.6779   110.775077\n",
       "2018-09-01    103.3118   101.583420"
      ]
     },
     "execution_count": 447,
     "metadata": {},
     "output_type": "execute_result"
    }
   ],
   "source": [
    "compare"
   ]
  },
  {
   "cell_type": "code",
   "execution_count": 448,
   "metadata": {},
   "outputs": [
    {
     "data": {
      "image/png": "[encoded data removed]",
      "text/plain": [
       "<Figure size 720x288 with 1 Axes>"
      ]
     },
     "metadata": {
      "needs_background": "light"
     },
     "output_type": "display_data"
    }
   ],
   "source": [
    "compare.plot(figsize = (10, 4))\n",
    "plt.show()"
   ]
  },
  {
   "cell_type": "markdown",
   "metadata": {
    "id": "8LWk7fR2W0Uc"
   },
   "source": [
    "#### Calculation R2 Score and Error Metrics"
   ]
  },
  {
   "cell_type": "code",
   "execution_count": 449,
   "metadata": {
    "id": "6NL6kGVpW0Uc"
   },
   "outputs": [
    {
     "name": "stdout",
     "output_type": "stream",
     "text": [
      "r2_score: 0.7222500552275766 \n",
      "mae: 0.04729682378967751 \n",
      "mse: 0.0034637192362079443 \n",
      "rmse: 0.058853370644406974\n"
     ]
    }
   ],
   "source": [
    "eval_metrics(test_scaled[:length], predictions_scaled)"
   ]
  },
  {
   "cell_type": "markdown",
   "metadata": {
    "id": "AeWZTdyPW0Ud"
   },
   "source": [
    "### with \"relu\" activation function"
   ]
  },
  {
   "cell_type": "code",
   "execution_count": 177,
   "metadata": {
    "id": "lrlNA3cIW0Ud"
   },
   "outputs": [],
   "source": [
    "n_features = train_scaled.shape[1]"
   ]
  },
  {
   "cell_type": "code",
   "execution_count": 212,
   "metadata": {},
   "outputs": [],
   "source": [
    "model = Sequential()\n",
    "model.add(LSTM(100, activation = 'relu',  input_shape = (length, n_features)))#return_sequences=True,\n",
    "#model.add(LSTM(50, activation = 'relu'))\n",
    "model.add(Dense(1)) \n",
    "model.compile(optimizer = 'adam', loss = 'mse')"
   ]
  },
  {
   "cell_type": "code",
   "execution_count": 213,
   "metadata": {},
   "outputs": [
    {
     "name": "stdout",
     "output_type": "stream",
     "text": [
      "Model: \"sequential_9\"\n",
      "_________________________________________________________________\n",
      " Layer (type)                Output Shape              Param #   \n",
      "=================================================================\n",
      " lstm_12 (LSTM)              (None, 100)               40800     \n",
      "                                                                 \n",
      " dense_9 (Dense)             (None, 1)                 101       \n",
      "                                                                 \n",
      "=================================================================\n",
      "Total params: 40,901\n",
      "Trainable params: 40,901\n",
      "Non-trainable params: 0\n",
      "_________________________________________________________________\n"
     ]
    }
   ],
   "source": [
    "model.summary()"
   ]
  },
  {
   "cell_type": "code",
   "execution_count": 214,
   "metadata": {},
   "outputs": [],
   "source": [
    "from tensorflow.keras.callbacks import EarlyStopping"
   ]
  },
  {
   "cell_type": "code",
   "execution_count": 215,
   "metadata": {},
   "outputs": [],
   "source": [
    "early_stop = EarlyStopping(monitor = 'val_loss', patience = 5)"
   ]
  },
  {
   "cell_type": "code",
   "execution_count": 216,
   "metadata": {},
   "outputs": [],
   "source": [
    "validation_generator = TimeseriesGenerator(test_scaled, test_scaled, length = length, batch_size = batch_size)"
   ]
  },
  {
   "cell_type": "code",
   "execution_count": 217,
   "metadata": {},
   "outputs": [
    {
     "data": {
      "text/plain": [
       "12"
      ]
     },
     "execution_count": 217,
     "metadata": {},
     "output_type": "execute_result"
    }
   ],
   "source": [
    "len(validation_generator)"
   ]
  },
  {
   "cell_type": "code",
   "execution_count": 218,
   "metadata": {},
   "outputs": [
    {
     "name": "stdout",
     "output_type": "stream",
     "text": [
      "Epoch 1/20\n",
      "561/561 [==============================] - 4s 6ms/step - loss: 0.0215 - val_loss: 0.0047\n",
      "Epoch 2/20\n",
      "561/561 [==============================] - 3s 6ms/step - loss: 0.0109 - val_loss: 0.0036\n",
      "Epoch 3/20\n",
      "561/561 [==============================] - 3s 5ms/step - loss: 0.0049 - val_loss: 0.0100\n",
      "Epoch 4/20\n",
      "561/561 [==============================] - 3s 5ms/step - loss: 0.0051 - val_loss: 0.0021\n",
      "Epoch 5/20\n",
      "561/561 [==============================] - 3s 5ms/step - loss: 0.0042 - val_loss: 0.0017\n",
      "Epoch 6/20\n",
      "561/561 [==============================] - 3s 5ms/step - loss: 0.0038 - val_loss: 0.0040\n",
      "Epoch 7/20\n",
      "561/561 [==============================] - 2s 4ms/step - loss: 0.0038 - val_loss: 0.0015\n",
      "Epoch 8/20\n",
      "561/561 [==============================] - 2s 4ms/step - loss: 0.0035 - val_loss: 0.0016\n",
      "Epoch 9/20\n",
      "561/561 [==============================] - 3s 5ms/step - loss: 0.0037 - val_loss: 0.0026\n",
      "Epoch 10/20\n",
      "561/561 [==============================] - 3s 5ms/step - loss: 0.0031 - val_loss: 0.0015\n",
      "Epoch 11/20\n",
      "561/561 [==============================] - 3s 6ms/step - loss: 0.0030 - val_loss: 0.0016\n",
      "Epoch 12/20\n",
      "561/561 [==============================] - 3s 5ms/step - loss: 0.0027 - val_loss: 0.0020\n",
      "Epoch 13/20\n",
      "561/561 [==============================] - 3s 4ms/step - loss: 0.0029 - val_loss: 0.0017\n",
      "Epoch 14/20\n",
      "561/561 [==============================] - 2s 4ms/step - loss: 0.0028 - val_loss: 0.0015\n",
      "Epoch 15/20\n",
      "561/561 [==============================] - 3s 5ms/step - loss: 0.0028 - val_loss: 0.0022\n",
      "Epoch 16/20\n",
      "561/561 [==============================] - 3s 5ms/step - loss: 0.0028 - val_loss: 0.0018\n",
      "Epoch 17/20\n",
      "561/561 [==============================] - 3s 5ms/step - loss: 0.0026 - val_loss: 0.0021\n",
      "Epoch 18/20\n",
      "561/561 [==============================] - 3s 5ms/step - loss: 0.0025 - val_loss: 0.0023\n",
      "Epoch 19/20\n",
      "561/561 [==============================] - 3s 5ms/step - loss: 0.0025 - val_loss: 0.0019\n"
     ]
    },
    {
     "data": {
      "text/plain": [
       "<keras.callbacks.History at 0x1ee76960460>"
      ]
     },
     "execution_count": 218,
     "metadata": {},
     "output_type": "execute_result"
    }
   ],
   "source": [
    "model.fit_generator(generator,\n",
    "                    epochs = 20,\n",
    "                    validation_data = validation_generator,\n",
    "                    callbacks = [early_stop])"
   ]
  },
  {
   "cell_type": "code",
   "execution_count": 219,
   "metadata": {},
   "outputs": [
    {
     "data": {
      "text/plain": [
       "<AxesSubplot:>"
      ]
     },
     "execution_count": 219,
     "metadata": {},
     "output_type": "execute_result"
    },
    {
     "data": {
      "image/png": "[encoded data removed]",
      "text/plain": [
       "<Figure size 432x288 with 1 Axes>"
      ]
     },
     "metadata": {
      "needs_background": "light"
     },
     "output_type": "display_data"
    }
   ],
   "source": [
    "loss_df = pd.DataFrame(model.history.history)\n",
    "loss_df.plot()"
   ]
  },
  {
   "cell_type": "markdown",
   "metadata": {
    "id": "UEwhDIzzW0Ud"
   },
   "source": [
    "#### Evaluate on Test Data"
   ]
  },
  {
   "cell_type": "code",
   "execution_count": 220,
   "metadata": {
    "id": "sEIphpveW0Ud"
   },
   "outputs": [],
   "source": [
    "from sklearn.metrics import mean_absolute_error, mean_squared_error, r2_score"
   ]
  },
  {
   "cell_type": "code",
   "execution_count": 221,
   "metadata": {},
   "outputs": [],
   "source": [
    "def eval_metrics(actual, pred):\n",
    "    rmse = np.sqrt(mean_squared_error(actual, pred))\n",
    "    mae = mean_absolute_error(actual, pred)\n",
    "    mse = mean_squared_error(actual, pred)\n",
    "    score = r2_score(actual, pred)\n",
    "    return print(\"r2_score:\", score, \"\\nmae:\", mae, \"\\nmse:\",mse, \"\\nrmse:\",rmse)"
   ]
  },
  {
   "cell_type": "code",
   "execution_count": 222,
   "metadata": {},
   "outputs": [
    {
     "data": {
      "text/plain": [
       "[array([0.21564627], dtype=float32),\n",
       " array([0.16318125], dtype=float32),\n",
       " array([0.16913536], dtype=float32),\n",
       " array([0.24563056], dtype=float32),\n",
       " array([0.34051093], dtype=float32),\n",
       " array([0.40539902], dtype=float32),\n",
       " array([0.45377037], dtype=float32),\n",
       " array([0.5009078], dtype=float32),\n",
       " array([0.52870446], dtype=float32),\n",
       " array([0.5028221], dtype=float32),\n",
       " array([0.4331163], dtype=float32),\n",
       " array([0.33333513], dtype=float32)]"
      ]
     },
     "execution_count": 222,
     "metadata": {},
     "output_type": "execute_result"
    }
   ],
   "source": [
    "predictions_scaled"
   ]
  },
  {
   "cell_type": "markdown",
   "metadata": {
    "id": "P17_vbkUW0Ue"
   },
   "source": [
    "#### Inverse Transformations and Comparing"
   ]
  },
  {
   "cell_type": "code",
   "execution_count": 223,
   "metadata": {
    "id": "v-M3v-GIW0Ue"
   },
   "outputs": [],
   "source": [
    "predictions = scaler.inverse_transform(predictions_scaled)"
   ]
  },
  {
   "cell_type": "code",
   "execution_count": 224,
   "metadata": {},
   "outputs": [],
   "source": [
    "compare = test[:12]"
   ]
  },
  {
   "cell_type": "code",
   "execution_count": 225,
   "metadata": {},
   "outputs": [],
   "source": [
    "compare['Predictions'] = predictions"
   ]
  },
  {
   "cell_type": "code",
   "execution_count": 226,
   "metadata": {},
   "outputs": [
    {
     "data": {
      "text/html": [
       "<div>\n",
       "<style scoped>\n",
       "    .dataframe tbody tr th:only-of-type {\n",
       "        vertical-align: middle;\n",
       "    }\n",
       "\n",
       "    .dataframe tbody tr th {\n",
       "        vertical-align: top;\n",
       "    }\n",
       "\n",
       "    .dataframe thead th {\n",
       "        text-align: right;\n",
       "    }\n",
       "</style>\n",
       "<table border=\"1\" class=\"dataframe\">\n",
       "  <thead>\n",
       "    <tr style=\"text-align: right;\">\n",
       "      <th></th>\n",
       "      <th>Production</th>\n",
       "      <th>Predictions</th>\n",
       "    </tr>\n",
       "    <tr>\n",
       "      <th>DATE</th>\n",
       "      <th></th>\n",
       "      <th></th>\n",
       "    </tr>\n",
       "  </thead>\n",
       "  <tbody>\n",
       "    <tr>\n",
       "      <th>2017-10-01</th>\n",
       "      <td>90.4732</td>\n",
       "      <td>88.314159</td>\n",
       "    </tr>\n",
       "    <tr>\n",
       "      <th>2017-11-01</th>\n",
       "      <td>77.4378</td>\n",
       "      <td>81.099489</td>\n",
       "    </tr>\n",
       "    <tr>\n",
       "      <th>2017-12-01</th>\n",
       "      <td>75.8118</td>\n",
       "      <td>81.918263</td>\n",
       "    </tr>\n",
       "    <tr>\n",
       "      <th>2018-01-01</th>\n",
       "      <td>83.4343</td>\n",
       "      <td>92.437417</td>\n",
       "    </tr>\n",
       "    <tr>\n",
       "      <th>2018-02-01</th>\n",
       "      <td>99.4899</td>\n",
       "      <td>105.484787</td>\n",
       "    </tr>\n",
       "    <tr>\n",
       "      <th>2018-03-01</th>\n",
       "      <td>107.3152</td>\n",
       "      <td>114.407801</td>\n",
       "    </tr>\n",
       "    <tr>\n",
       "      <th>2018-04-01</th>\n",
       "      <td>112.4309</td>\n",
       "      <td>121.059533</td>\n",
       "    </tr>\n",
       "    <tr>\n",
       "      <th>2018-05-01</th>\n",
       "      <td>110.3544</td>\n",
       "      <td>127.541582</td>\n",
       "    </tr>\n",
       "    <tr>\n",
       "      <th>2018-06-01</th>\n",
       "      <td>124.5841</td>\n",
       "      <td>131.364013</td>\n",
       "    </tr>\n",
       "    <tr>\n",
       "      <th>2018-07-01</th>\n",
       "      <td>117.2215</td>\n",
       "      <td>127.804828</td>\n",
       "    </tr>\n",
       "    <tr>\n",
       "      <th>2018-08-01</th>\n",
       "      <td>112.6779</td>\n",
       "      <td>118.219310</td>\n",
       "    </tr>\n",
       "    <tr>\n",
       "      <th>2018-09-01</th>\n",
       "      <td>103.3118</td>\n",
       "      <td>104.498014</td>\n",
       "    </tr>\n",
       "  </tbody>\n",
       "</table>\n",
       "</div>"
      ],
      "text/plain": [
       "            Production  Predictions\n",
       "DATE                               \n",
       "2017-10-01     90.4732    88.314159\n",
       "2017-11-01     77.4378    81.099489\n",
       "2017-12-01     75.8118    81.918263\n",
       "2018-01-01     83.4343    92.437417\n",
       "2018-02-01     99.4899   105.484787\n",
       "2018-03-01    107.3152   114.407801\n",
       "2018-04-01    112.4309   121.059533\n",
       "2018-05-01    110.3544   127.541582\n",
       "2018-06-01    124.5841   131.364013\n",
       "2018-07-01    117.2215   127.804828\n",
       "2018-08-01    112.6779   118.219310\n",
       "2018-09-01    103.3118   104.498014"
      ]
     },
     "execution_count": 226,
     "metadata": {},
     "output_type": "execute_result"
    }
   ],
   "source": [
    "compare"
   ]
  },
  {
   "cell_type": "code",
   "execution_count": 227,
   "metadata": {},
   "outputs": [
    {
     "data": {
      "image/png": "[encoded data removed]",
      "text/plain": [
       "<Figure size 720x288 with 1 Axes>"
      ]
     },
     "metadata": {
      "needs_background": "light"
     },
     "output_type": "display_data"
    }
   ],
   "source": [
    "compare.plot(figsize = (10, 4))\n",
    "plt.show()"
   ]
  },
  {
   "cell_type": "markdown",
   "metadata": {
    "id": "y2YxA_sTW0Ue"
   },
   "source": [
    "#### Calculation R2 Score and Error Metrics"
   ]
  },
  {
   "cell_type": "code",
   "execution_count": 228,
   "metadata": {
    "id": "biBzyA-dW0Uf"
   },
   "outputs": [
    {
     "name": "stdout",
     "output_type": "stream",
     "text": [
      "r2_score: 0.7234484191793877 \n",
      "mae: 0.05085817850670917 \n",
      "mse: 0.0034487748722216004 \n",
      "rmse: 0.05872627071610797\n"
     ]
    }
   ],
   "source": [
    "eval_metrics(test_scaled[:length], predictions_scaled)"
   ]
  },
  {
   "cell_type": "markdown",
   "metadata": {
    "collapsed": true,
    "id": "d7iS01PhW0Uf"
   },
   "source": [
    "## Retrain and Forecasting\n",
    "\n",
    "Select activation function providing a better score, create your final model with full data, forecast for the next 12 months, and plot this forecast."
   ]
  },
  {
   "cell_type": "code",
   "execution_count": 229,
   "metadata": {
    "id": "c5xKyE39W0Uf"
   },
   "outputs": [],
   "source": [
    "full_scaler = MinMaxScaler()\n",
    "scaled_full_data = full_scaler.fit_transform(df)"
   ]
  },
  {
   "cell_type": "code",
   "execution_count": 230,
   "metadata": {},
   "outputs": [],
   "source": [
    "generator = TimeseriesGenerator(scaled_full_data, scaled_full_data, length = length, batch_size = batch_size)"
   ]
  },
  {
   "cell_type": "code",
   "execution_count": 231,
   "metadata": {},
   "outputs": [
    {
     "data": {
      "text/plain": [
       "573"
      ]
     },
     "execution_count": 231,
     "metadata": {},
     "output_type": "execute_result"
    }
   ],
   "source": [
    "len(df)"
   ]
  },
  {
   "cell_type": "code",
   "execution_count": 232,
   "metadata": {},
   "outputs": [
    {
     "data": {
      "text/plain": [
       "561"
      ]
     },
     "execution_count": 232,
     "metadata": {},
     "output_type": "execute_result"
    }
   ],
   "source": [
    "len(generator)"
   ]
  },
  {
   "cell_type": "code",
   "execution_count": 244,
   "metadata": {},
   "outputs": [
    {
     "name": "stdout",
     "output_type": "stream",
     "text": [
      "Epoch 1/15\n",
      "561/561 [==============================] - 4s 5ms/step - loss: 0.0200\n",
      "Epoch 2/15\n",
      "561/561 [==============================] - 3s 6ms/step - loss: 0.0041\n",
      "Epoch 3/15\n",
      "561/561 [==============================] - 3s 6ms/step - loss: 0.0039\n",
      "Epoch 4/15\n",
      "561/561 [==============================] - 3s 6ms/step - loss: 0.0034\n",
      "Epoch 5/15\n",
      "561/561 [==============================] - 3s 6ms/step - loss: 0.0036\n",
      "Epoch 6/15\n",
      "561/561 [==============================] - 3s 4ms/step - loss: 0.0032\n",
      "Epoch 7/15\n",
      "561/561 [==============================] - 3s 6ms/step - loss: 0.0032\n",
      "Epoch 8/15\n",
      "561/561 [==============================] - 3s 6ms/step - loss: 0.0031\n",
      "Epoch 9/15\n",
      "561/561 [==============================] - 3s 6ms/step - loss: 0.0032\n",
      "Epoch 10/15\n",
      "561/561 [==============================] - 3s 6ms/step - loss: 0.0031\n",
      "Epoch 11/15\n",
      "561/561 [==============================] - 3s 6ms/step - loss: 0.0031\n",
      "Epoch 12/15\n",
      "561/561 [==============================] - 3s 6ms/step - loss: 0.0031\n",
      "Epoch 13/15\n",
      "561/561 [==============================] - 3s 6ms/step - loss: 0.0029\n",
      "Epoch 14/15\n",
      "561/561 [==============================] - 3s 5ms/step - loss: 0.0028\n",
      "Epoch 15/15\n",
      "561/561 [==============================] - 3s 6ms/step - loss: 0.0026\n"
     ]
    },
    {
     "data": {
      "text/plain": [
       "<keras.callbacks.History at 0x1ee0e8584c0>"
      ]
     },
     "execution_count": 244,
     "metadata": {},
     "output_type": "execute_result"
    }
   ],
   "source": [
    "model = Sequential()\n",
    "model.add(LSTM(100, activation = 'tanh',  input_shape = (length, n_features)))#return_sequences=True,\n",
    "#model.add(LSTM(50, activation = 'tanh'))\n",
    "model.add(Dense(1))\n",
    "model.compile(optimizer = 'adam', loss = 'mse')\n",
    "\n",
    "model.fit_generator(generator, epochs=15)"
   ]
  },
  {
   "cell_type": "code",
   "execution_count": 245,
   "metadata": {},
   "outputs": [
    {
     "data": {
      "text/plain": [
       "(573, 1)"
      ]
     },
     "execution_count": 245,
     "metadata": {},
     "output_type": "execute_result"
    }
   ],
   "source": [
    "scaled_full_data.shape"
   ]
  },
  {
   "cell_type": "code",
   "execution_count": 246,
   "metadata": {},
   "outputs": [
    {
     "data": {
      "text/plain": [
       "(12, 1)"
      ]
     },
     "execution_count": 246,
     "metadata": {},
     "output_type": "execute_result"
    }
   ],
   "source": [
    "scaled_full_data[-length:].shape"
   ]
  },
  {
   "cell_type": "code",
   "execution_count": 247,
   "metadata": {},
   "outputs": [],
   "source": [
    "forecast = []\n",
    "# Replace periods with whatever forecast length you want\n",
    "\n",
    "first_eval_batch = scaled_full_data[-length:]\n",
    "current_batch = first_eval_batch.reshape((1, length, n_features))\n",
    "\n",
    "for i in range(length):\n",
    "    \n",
    "    # get prediction 1 time stamp ahead ([0] is for grabbing just the number instead of [array])\n",
    "    current_pred = model.predict(current_batch)\n",
    "    \n",
    "    # store prediction\n",
    "    forecast.append(current_pred[0]) \n",
    "    \n",
    "    # update batch to now include prediction and drop first value\n",
    "    current_batch = np.append(current_batch[:, 1:, :], [current_pred], axis = 1)"
   ]
  },
  {
   "cell_type": "code",
   "execution_count": 248,
   "metadata": {},
   "outputs": [],
   "source": [
    "forecast = scaler.inverse_transform(forecast)"
   ]
  },
  {
   "cell_type": "code",
   "execution_count": 249,
   "metadata": {},
   "outputs": [
    {
     "data": {
      "text/plain": [
       "array([[ 87.515102  ],\n",
       "       [ 79.73315067],\n",
       "       [ 79.75817858],\n",
       "       [ 86.97041602],\n",
       "       [ 96.55361682],\n",
       "       [104.69222512],\n",
       "       [110.42392854],\n",
       "       [114.22990889],\n",
       "       [115.03594537],\n",
       "       [110.51484785],\n",
       "       [102.35833847],\n",
       "       [ 91.94352206]])"
      ]
     },
     "execution_count": 249,
     "metadata": {},
     "output_type": "execute_result"
    }
   ],
   "source": [
    "forecast"
   ]
  },
  {
   "cell_type": "code",
   "execution_count": 250,
   "metadata": {},
   "outputs": [
    {
     "data": {
      "text/html": [
       "<div>\n",
       "<style scoped>\n",
       "    .dataframe tbody tr th:only-of-type {\n",
       "        vertical-align: middle;\n",
       "    }\n",
       "\n",
       "    .dataframe tbody tr th {\n",
       "        vertical-align: top;\n",
       "    }\n",
       "\n",
       "    .dataframe thead th {\n",
       "        text-align: right;\n",
       "    }\n",
       "</style>\n",
       "<table border=\"1\" class=\"dataframe\">\n",
       "  <thead>\n",
       "    <tr style=\"text-align: right;\">\n",
       "      <th></th>\n",
       "      <th>Production</th>\n",
       "    </tr>\n",
       "    <tr>\n",
       "      <th>DATE</th>\n",
       "      <th></th>\n",
       "    </tr>\n",
       "  </thead>\n",
       "  <tbody>\n",
       "    <tr>\n",
       "      <th>1972-01-01</th>\n",
       "      <td>59.9622</td>\n",
       "    </tr>\n",
       "    <tr>\n",
       "      <th>1972-02-01</th>\n",
       "      <td>67.0605</td>\n",
       "    </tr>\n",
       "    <tr>\n",
       "      <th>1972-03-01</th>\n",
       "      <td>74.2350</td>\n",
       "    </tr>\n",
       "    <tr>\n",
       "      <th>1972-04-01</th>\n",
       "      <td>78.1120</td>\n",
       "    </tr>\n",
       "    <tr>\n",
       "      <th>1972-05-01</th>\n",
       "      <td>84.7636</td>\n",
       "    </tr>\n",
       "    <tr>\n",
       "      <th>...</th>\n",
       "      <td>...</td>\n",
       "    </tr>\n",
       "    <tr>\n",
       "      <th>2019-05-01</th>\n",
       "      <td>114.5613</td>\n",
       "    </tr>\n",
       "    <tr>\n",
       "      <th>2019-06-01</th>\n",
       "      <td>124.9605</td>\n",
       "    </tr>\n",
       "    <tr>\n",
       "      <th>2019-07-01</th>\n",
       "      <td>110.2632</td>\n",
       "    </tr>\n",
       "    <tr>\n",
       "      <th>2019-08-01</th>\n",
       "      <td>102.6085</td>\n",
       "    </tr>\n",
       "    <tr>\n",
       "      <th>2019-09-01</th>\n",
       "      <td>101.5866</td>\n",
       "    </tr>\n",
       "  </tbody>\n",
       "</table>\n",
       "<p>573 rows × 1 columns</p>\n",
       "</div>"
      ],
      "text/plain": [
       "            Production\n",
       "DATE                  \n",
       "1972-01-01     59.9622\n",
       "1972-02-01     67.0605\n",
       "1972-03-01     74.2350\n",
       "1972-04-01     78.1120\n",
       "1972-05-01     84.7636\n",
       "...                ...\n",
       "2019-05-01    114.5613\n",
       "2019-06-01    124.9605\n",
       "2019-07-01    110.2632\n",
       "2019-08-01    102.6085\n",
       "2019-09-01    101.5866\n",
       "\n",
       "[573 rows x 1 columns]"
      ]
     },
     "execution_count": 250,
     "metadata": {},
     "output_type": "execute_result"
    }
   ],
   "source": [
    "df"
   ]
  },
  {
   "cell_type": "code",
   "execution_count": 251,
   "metadata": {},
   "outputs": [],
   "source": [
    "forecast_index = pd.date_range(start = '2019-10-01', periods = length, freq = 'MS')"
   ]
  },
  {
   "cell_type": "code",
   "execution_count": 252,
   "metadata": {},
   "outputs": [
    {
     "data": {
      "text/plain": [
       "DatetimeIndex(['2019-10-01', '2019-11-01', '2019-12-01', '2020-01-01',\n",
       "               '2020-02-01', '2020-03-01', '2020-04-01', '2020-05-01',\n",
       "               '2020-06-01', '2020-07-01', '2020-08-01', '2020-09-01'],\n",
       "              dtype='datetime64[ns]', freq='MS')"
      ]
     },
     "execution_count": 252,
     "metadata": {},
     "output_type": "execute_result"
    }
   ],
   "source": [
    "forecast_index"
   ]
  },
  {
   "cell_type": "code",
   "execution_count": 253,
   "metadata": {},
   "outputs": [],
   "source": [
    "forecast_df = pd.DataFrame(data = forecast, index = forecast_index, columns = ['Forecast'])"
   ]
  },
  {
   "cell_type": "code",
   "execution_count": 254,
   "metadata": {},
   "outputs": [
    {
     "data": {
      "text/plain": [
       "[<matplotlib.lines.Line2D at 0x1ee136255b0>]"
      ]
     },
     "execution_count": 254,
     "metadata": {},
     "output_type": "execute_result"
    },
    {
     "data": {
      "image/png": "[encoded data removed]",
      "text/plain": [
       "<Figure size 1152x576 with 1 Axes>"
      ]
     },
     "metadata": {
      "needs_background": "light"
     },
     "output_type": "display_data"
    }
   ],
   "source": [
    "plt.figure(figsize = (16, 8))\n",
    "plt.plot(df.index, df[\"Production\"])\n",
    "plt.plot(forecast_df.index, forecast_df['Forecast'])"
   ]
  },
  {
   "cell_type": "code",
   "execution_count": 255,
   "metadata": {},
   "outputs": [
    {
     "data": {
      "image/png": "[encoded data removed]",
      "text/plain": [
       "<Figure size 720x432 with 1 Axes>"
      ]
     },
     "metadata": {
      "needs_background": "light"
     },
     "output_type": "display_data"
    }
   ],
   "source": [
    "ax = df.plot()\n",
    "forecast_df.plot(figsize = (10, 6), ax = ax)\n",
    "plt.xlim('2018-01-01','2020-12-01')\n",
    "plt.show()"
   ]
  },
  {
   "cell_type": "code",
   "execution_count": null,
   "metadata": {},
   "outputs": [],
   "source": []
  }
 ],
 "metadata": {
  "colab": {
   "name": "DL-Assignmet-3 (RNN-Time_Series-Frozen_Dessert_Production)-Student.ipynb",
   "provenance": []
  },
  "kernelspec": {
   "display_name": "Python 3 (ipykernel)",
   "language": "python",
   "name": "python3"
  },
  "language_info": {
   "codemirror_mode": {
    "name": "ipython",
    "version": 3
   },
   "file_extension": ".py",
   "mimetype": "text/x-python",
   "name": "python",
   "nbconvert_exporter": "python",
   "pygments_lexer": "ipython3",
   "version": "3.9.7"
  }
 },
 "nbformat": 4,
 "nbformat_minor": 1
}
